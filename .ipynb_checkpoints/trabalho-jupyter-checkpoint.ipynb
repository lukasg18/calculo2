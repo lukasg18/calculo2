{
 "cells": [
  {
   "cell_type": "markdown",
   "metadata": {},
   "source": [
    "# Passo 1 – Esboçar o gráfico da função: \n",
    "\\begin{equation*}\n",
    "f(x)   = \\frac{senx}{x}\n",
    "\\end{equation*}"
   ]
  },
  {
   "cell_type": "code",
   "execution_count": 84,
   "metadata": {},
   "outputs": [],
   "source": [
    "import matplotlib.pyplot as plt\n",
    "import numpy as np\n",
    "import texttable as tt"
   ]
  },
  {
   "cell_type": "code",
   "execution_count": 147,
   "metadata": {},
   "outputs": [],
   "source": [
    "def gera_grafico():\n",
    "    x = np.linspace(-3*np.pi, (3*np.pi), 200)\n",
    "    y = np.sin(x)\n",
    "    y2 = y / x\n",
    "    plt.plot(x, y, '--r', label='sen(x)')\n",
    "    plt.plot(x, y2, color='green', label='sen(x)/x')\n",
    "    plt.xlabel(r'Eixo $x$')\n",
    "    plt.ylabel('Eixo y')\n",
    "    plt.legend()\n",
    "    plt.show()"
   ]
  },
  {
   "cell_type": "code",
   "execution_count": 148,
   "metadata": {},
   "outputs": [
    {
     "data": {
      "image/png": "[encoded data removed]",
      "text/plain": [
       "<matplotlib.figure.Figure at 0x7fabecdbe080>"
      ]
     },
     "metadata": {},
     "output_type": "display_data"
    }
   ],
   "source": [
    "gera_grafico()"
   ]
  },
  {
   "cell_type": "markdown",
   "metadata": {},
   "source": [
    "# Passo 2 – Escrever como uma serie  a função: \n",
    "\\begin{equation*}\n",
    "f(x)   = \\frac{senx}{x}\n",
    "\\end{equation*} "
   ]
  },
  {
   "cell_type": "markdown",
   "metadata": {},
   "source": [
    "## Considere a série MacLaurin para: \n",
    "\\begin{equation*}\n",
    "\\sin (x) = \\sum_{n=0}^\\infty (-1)^n \\frac{x^{2n+1}}{(2n+1)!}\n",
    "\\end{equation*}\n",
    "## dividindo a serie por \"x\", temos:\n",
    "\\begin{equation*}\n",
    "\\frac{senx}{x} = \\sum_{n=0}^\\infty (-1)^n \\frac{1}{x} \\frac{x^{2n+1}}{(2n+1)!} = \\sum_{n=0}^\\infty (-1)^n \\frac{x^{2n}}{(2n+1)!}\n",
    "\\end{equation*}\n",
    "\n",
    "## expandindo a serie:\n",
    "\\begin{equation*}\n",
    "\\sum_{n=0}^\\infty (-1)^n \\frac{x^{2n}}{(2n+1)!} = 1 - \\frac{x^2}{3!} + \\frac{x^4}{5!} -\\frac{x^6}{7!} + ...\n",
    "\\end{equation*}\n"
   ]
  },
  {
   "cell_type": "markdown",
   "metadata": {},
   "source": [
    "________________________________________________________________"
   ]
  },
  {
   "cell_type": "markdown",
   "metadata": {},
   "source": [
    "# Passo 3 – Escrever a derivada da função: \n",
    "\\begin{equation*}\n",
    "f(x)   = \\frac{senx}{x}\n",
    "\\end{equation*} \n",
    "## verificar os valores da derivada nos pontos \n",
    "- x = 0; \n",
    "- x = π/2; \n",
    "- x = π; \n",
    "- x =3π/2; \n",
    "- x = 2π ; \n",
    "- x =5π/2; \n",
    "- x = 3π"
   ]
  },
  {
   "cell_type": "markdown",
   "metadata": {},
   "source": [
    "## derivada da serie:\n",
    "\\begin{equation*}\n",
    "\\frac{d}{dx}(\\sum_{n=0}^\\infty (-1)^n \\frac{x^{2n}}{(2n+1)!}) = \\sum_{n=0}^\\infty \\frac{(-1)^n 2n}{(2n+1)!}.x^{2n-1}\n",
    "\\end{equation*}"
   ]
  },
  {
   "cell_type": "code",
   "execution_count": 131,
   "metadata": {},
   "outputs": [],
   "source": [
    "def fatorial(x):\n",
    "  if x == 0:\n",
    "    return 1\n",
    "  return x * fatorial(x-1)\n",
    "\n",
    "def verifica_derivada():\n",
    "    tabela = tt.Texttable()\n",
    "    tabela.header(['x', 'valor'])\n",
    "    valores = ['0','pi/2','pi','3pi/2','2pi','5pi/2','3pi']\n",
    "    pontos = [0.0, (np.pi/2), (np.pi), (3*np.pi)/2, (2*np.pi), (5*np.pi)/2, (3*np.pi)]\n",
    "    resultado = 0.0\n",
    "    i = 0\n",
    "    for p in pontos:\n",
    "        v = valores[i]\n",
    "        resultado = 0.0\n",
    "        for n in range(0,20):\n",
    "            fat = fatorial(((2*n)+1))\n",
    "            if p == 0.0:\n",
    "                resultado = 1\n",
    "            else:\n",
    "                resultado = resultado + ((((-1) ** n) * (2*n))/fat)*((p) ** ((2*n)-1))\n",
    "        tabela.add_row([v,resultado])\n",
    "        i+=1\n",
    "    print(tabela.draw())"
   ]
  },
  {
   "cell_type": "code",
   "execution_count": 132,
   "metadata": {},
   "outputs": [
    {
     "name": "stdout",
     "output_type": "stream",
     "text": [
      "+-------+--------+\n",
      "|   x   | valor  |\n",
      "+=======+========+\n",
      "| 0     | 1      |\n",
      "+-------+--------+\n",
      "| pi/2  | -0.405 |\n",
      "+-------+--------+\n",
      "| pi    | -0.318 |\n",
      "+-------+--------+\n",
      "| 3pi/2 | 0.045  |\n",
      "+-------+--------+\n",
      "| 2pi   | 0.159  |\n",
      "+-------+--------+\n",
      "| 5pi/2 | -0.016 |\n",
      "+-------+--------+\n",
      "| 3pi   | -0.106 |\n",
      "+-------+--------+\n"
     ]
    }
   ],
   "source": [
    "verifica_derivada()"
   ]
  },
  {
   "cell_type": "code",
   "execution_count": null,
   "metadata": {},
   "outputs": [],
   "source": []
  }
 ],
 "metadata": {
  "kernelspec": {
   "display_name": "Python 3",
   "language": "python",
   "name": "python3"
  },
  "language_info": {
   "codemirror_mode": {
    "name": "ipython",
    "version": 3
   },
   "file_extension": ".py",
   "mimetype": "text/x-python",
   "name": "python",
   "nbconvert_exporter": "python",
   "pygments_lexer": "ipython3",
   "version": "3.6.3"
  }
 },
 "nbformat": 4,
 "nbformat_minor": 2
}
