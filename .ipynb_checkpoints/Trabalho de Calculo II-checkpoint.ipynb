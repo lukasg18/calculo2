{
 "cells": [
  {
   "cell_type": "markdown",
   "metadata": {},
   "source": [
    "Alunos: Lucas Gomes Flegler e Luiz Antonio Roque Guzzo"
   ]
  },
  {
   "cell_type": "markdown",
   "metadata": {},
   "source": [
    "# Passo 1 – Esboçar o gráfico da função: \n",
    "\\begin{equation*}\n",
    "f(x)   = \\frac{senx}{x} \n",
    "\\end{equation*}\n"
   ]
  },
  {
   "cell_type": "code",
   "execution_count": 1,
   "metadata": {},
   "outputs": [],
   "source": [
    "import matplotlib.pyplot as plt\n",
    "import numpy as np\n",
    "import pandas as pd\n",
    "import texttable as tt\n",
    "from scipy.integrate import quad\n",
    "import csv"
   ]
  },
  {
   "cell_type": "code",
   "execution_count": 2,
   "metadata": {},
   "outputs": [],
   "source": [
    "def gera_grafico():\n",
    "    x = np.linspace(-3*np.pi, (3*np.pi), 200)\n",
    "    y = np.sin(x)\n",
    "    y2 = y / x\n",
    "    plt.plot(x, y, '--r', label='sen(x)')\n",
    "    plt.plot(x, y2, color='green', label='sen(x)/x')\n",
    "    plt.xlabel(r'Eixo $x$')\n",
    "    plt.ylabel('Eixo y')\n",
    "    plt.legend()\n",
    "    plt.show()"
   ]
  },
  {
   "cell_type": "code",
   "execution_count": 3,
   "metadata": {},
   "outputs": [
    {
     "data": {
      "image/png": "[encoded data removed]",
      "text/plain": [
       "<matplotlib.figure.Figure at 0x7f6a22acc6a0>"
      ]
     },
     "metadata": {},
     "output_type": "display_data"
    }
   ],
   "source": [
    "gera_grafico()"
   ]
  },
  {
   "cell_type": "markdown",
   "metadata": {},
   "source": [
    "# Passo 2 – Escrever como uma serie  a função: \n",
    "\\begin{equation*}\n",
    "f(x)   = \\frac{senx}{x}\n",
    "\\end{equation*} "
   ]
  },
  {
   "cell_type": "markdown",
   "metadata": {},
   "source": [
    "## Considere a série MacLaurin para: \n",
    "\\begin{equation*}\n",
    "\\sin (x) = \\sum_{n=0}^\\infty (-1)^n \\frac{x^{2n+1}}{(2n+1)!}\n",
    "\\end{equation*}\n",
    "## dividindo a serie por \"x\", temos:\n",
    "\\begin{equation*}\n",
    "\\frac{senx}{x} = \\sum_{n=0}^\\infty (-1)^n \\frac{1}{x} \\frac{x^{2n+1}}{(2n+1)!} = \\sum_{n=0}^\\infty (-1)^n \\frac{x^{2n}}{(2n+1)!}\n",
    "\\end{equation*}\n",
    "\n",
    "## expandindo a serie:\n",
    "\\begin{equation*}\n",
    "\\sum_{n=0}^\\infty (-1)^n \\frac{x^{2n}}{(2n+1)!} = 1 - \\frac{x^2}{3!} + \\frac{x^4}{5!} -\\frac{x^6}{7!} + ...\n",
    "\\end{equation*}\n"
   ]
  },
  {
   "cell_type": "markdown",
   "metadata": {},
   "source": [
    "________________________________________________________________"
   ]
  },
  {
   "cell_type": "markdown",
   "metadata": {},
   "source": [
    "# Passo 3 – Escrever a derivada da função: \n",
    "\\begin{equation*}\n",
    "f(x)   = \\frac{senx}{x}\n",
    "\\end{equation*} \n",
    "## verificar os valores da derivada nos pontos \n",
    "$$\\begin{array}{|l||c|}\n",
    "\\hline \\\n",
    "x = 0 & x = \\pi/2\\\\\n",
    "\\hline\n",
    "\\hline \\\n",
    "x = \\pi & x =3\\pi/2\\\\\n",
    "\\hline\n",
    "\\hline \\\n",
    "x = 2\\pi & x =5\\pi/2\\\\\n",
    "\\hline\n",
    "\\hline \\\n",
    "x = 3\\pi & \\\\\n",
    "\\hline\n",
    "\\end{array}$$"
   ]
  },
  {
   "cell_type": "markdown",
   "metadata": {},
   "source": [
    "## derivada da serie:\n",
    "\\begin{equation*}\n",
    "\\frac{d}{dx}(\\sum_{n=0}^\\infty (-1)^n \\frac{x^{2n}}{(2n+1)!}) = \\sum_{n=0}^\\infty \\frac{(-1)^n 2n}{(2n+1)!}.x^{2n-1}\n",
    "\\end{equation*}"
   ]
  },
  {
   "cell_type": "code",
   "execution_count": 4,
   "metadata": {},
   "outputs": [],
   "source": [
    "def fatorial(x):\n",
    "  if x == 0:\n",
    "    return 1\n",
    "  return x * fatorial(x-1)\n",
    "\n",
    "def verifica_derivada():\n",
    "    tabela = tt.Texttable()\n",
    "    tabela.header(['x', 'valor'])\n",
    "    valores = ['0','pi/2','pi','3pi/2','2pi','5pi/2','3pi']\n",
    "    pontos = [0.0, (np.pi/2), (np.pi), (3*np.pi)/2, (2*np.pi), (5*np.pi)/2, (3*np.pi)]\n",
    "    resultado = 0.0\n",
    "    i = 0\n",
    "    for x in pontos:\n",
    "        v = valores[i] #variavel criada para deixar ajudar a preencher a tabela\n",
    "        resultado = 0.0\n",
    "        for n in range(1,20): # somatoria de n = 1 até 20\n",
    "            fat = fatorial(((2*n)+1))\n",
    "            resultado = resultado + ((((-1) ** n) * (2*n))/fat)*((x) ** ((2*n)-1)) \n",
    "        tabela.add_row([v,resultado]) #salvando os dados na tabela abaixo\n",
    "        i+=1\n",
    "    print(tabela.draw()) #exibindo resultados"
   ]
  },
  {
   "cell_type": "code",
   "execution_count": 5,
   "metadata": {},
   "outputs": [
    {
     "name": "stdout",
     "output_type": "stream",
     "text": [
      "+-------+--------+\n",
      "|   x   | valor  |\n",
      "+=======+========+\n",
      "| 0     | 0      |\n",
      "+-------+--------+\n",
      "| pi/2  | -0.405 |\n",
      "+-------+--------+\n",
      "| pi    | -0.318 |\n",
      "+-------+--------+\n",
      "| 3pi/2 | 0.045  |\n",
      "+-------+--------+\n",
      "| 2pi   | 0.159  |\n",
      "+-------+--------+\n",
      "| 5pi/2 | -0.016 |\n",
      "+-------+--------+\n",
      "| 3pi   | -0.106 |\n",
      "+-------+--------+\n"
     ]
    }
   ],
   "source": [
    "verifica_derivada()"
   ]
  },
  {
   "cell_type": "markdown",
   "metadata": {},
   "source": [
    "# Passo 4 – Gerar uma tabela do intervalo [0,3π] da integral"
   ]
  },
  {
   "cell_type": "markdown",
   "metadata": {},
   "source": [
    "\\begin{equation*}\n",
    "\\int_{0}^{a} f(x) dx\n",
    "\\end{equation*}"
   ]
  },
  {
   "cell_type": "code",
   "execution_count": 10,
   "metadata": {},
   "outputs": [],
   "source": [
    "def f(x):\n",
    "    i = 1\n",
    "    soma = 1\n",
    "    while(i < 30):\n",
    "        fat = fatorial((2*i)+1)\n",
    "        soma = soma + ((-1)**i) * (((x)**((2*i)))/fat) # concatena uma unica expressao dentro da integral\n",
    "        i +=1\n",
    "    return soma # expressao a ser integrada pela biblioteca \"scipy.integrate\"\n",
    "\n",
    "def geraTabela():\n",
    "    x = 0\n",
    "    j = 0\n",
    "    i = 0.0\n",
    "    vet = []\n",
    "    matriz = []\n",
    "    tabela = tt.Texttable()\n",
    "    while (i <= 3): # a variavel i varia de 0.0 ate 3.9 \n",
    "        while (j <= 9): # linha da tabela varia de 1 a 9\n",
    "            b = i + (j/100.0) # incrementando de 0.01 por 0.01\n",
    "            b = b * np.pi\n",
    "            resultIntegral = quad(f,0,b) # funcao q calcula a integral onde os parametros sao: (expressao a ser integrada, intervalo de integracao,intervalo de integracao)\n",
    "            valor = resultIntegral[0]\n",
    "            vet.append(valor) #salvando o resultado em um vetor(linha a linha da tabela \"0.1\", \"0.2\", \"0.3\", ...)\n",
    "            j += 1\n",
    "        matriz.append(vet) # salvando a linha da tabela em uma matriz.\n",
    "        tabela.add_row([vet]) #salvando os dados na tabela abaixo\n",
    "        vet = []\n",
    "        i += 0.1\n",
    "        j = 0\n",
    "    np.set_printoptions(precision=6, linewidth=200) #configurando o modo de visualizacao da matriz, onde o \"precision\" e a quantidade de casas decimais apos a virgula e o \"linewidth\" e quantidade de termos a serem imprimidas em uma linha\n",
    "    # print(np.matrix(matriz)) # usando numpy para imprimir a matriz\n",
    "    def2 = pd.DataFrame(np.matrix(matriz))\n",
    "    print(def2)\n"
   ]
  },
  {
   "cell_type": "code",
   "execution_count": 11,
   "metadata": {},
   "outputs": [
    {
     "name": "stdout",
     "output_type": "stream",
     "text": [
      "           0         1         2         3         4         5         6  \\\n",
      "0   0.000000  0.031414  0.062818  0.094201  0.125554  0.156864  0.188124   \n",
      "1   0.312442  0.343291  0.374027  0.404641  0.435124  0.465464  0.495652   \n",
      "2   0.614700  0.643988  0.673069  0.701933  0.730572  0.758976  0.787137   \n",
      "3   0.897189  0.924013  0.950547  0.976782  1.002711  1.028327  1.053623   \n",
      "4   1.151477  1.175077  1.198319  1.221198  1.243709  1.265846  1.287604   \n",
      "5   1.370762  1.390562  1.409957  1.428946  1.447525  1.465690  1.483440   \n",
      "6   1.550234  1.565871  1.581082  1.595864  1.610216  1.624139  1.637632   \n",
      "7   1.687299  1.698642  1.709558  1.720046  1.730109  1.739748  1.748966   \n",
      "8   1.781661  1.788804  1.795541  1.801874  1.807808  1.813346  1.818492   \n",
      "9   1.835237  1.838486  1.841370  1.843894  1.846063  1.847882  1.849358   \n",
      "10  1.851937  1.851781  1.851317  1.850552  1.849492  1.848144  1.846515   \n",
      "11  1.837323  1.834392  1.831222  1.827821  1.824195  1.820353  1.816302   \n",
      "12  1.798159  1.793177  1.788031  1.782730  1.777280  1.771691  1.765969   \n",
      "13  1.741911  1.735642  1.729286  1.722852  1.716345  1.709775  1.703148   \n",
      "14  1.676217  1.669414  1.662598  1.655775  1.648951  1.642134  1.635330   \n",
      "15  1.608373  1.601729  1.595136  1.588599  1.582124  1.575717  1.569382   \n",
      "16  1.544874  1.538979  1.533187  1.527502  1.521928  1.516469  1.511129   \n",
      "17  1.491035  1.486345  1.481794  1.477386  1.473124  1.469008  1.465043   \n",
      "18  1.450724  1.447538  1.444513  1.441650  1.438950  1.436414  1.434042   \n",
      "19  1.426211  1.424667  1.423289  1.422076  1.421028  1.420144  1.419424   \n",
      "20  1.418152  1.418230  1.418464  1.418851  1.419390  1.420079  1.420916   \n",
      "21  1.425691  1.427230  1.428901  1.430702  1.432629  1.434680  1.436851   \n",
      "22  1.446674  1.449397  1.452219  1.455138  1.458149  1.461249  1.464433   \n",
      "23  1.477940  1.481490  1.485100  1.488767  1.492487  1.496255  1.500069   \n",
      "24  1.515684  1.519658  1.523652  1.527661  1.531683  1.535712  1.539744   \n",
      "25  1.555831  1.559822  1.563794  1.567742  1.571663  1.575553  1.579408   \n",
      "26  1.594416  1.598048  1.601625  1.605144  1.608603  1.611998  1.615327   \n",
      "27  1.627922  1.630878  1.633752  1.636543  1.639247  1.641863  1.644389   \n",
      "28  1.653556  1.655606  1.657556  1.659406  1.661154  1.662798  1.664339   \n",
      "29  1.669451  1.670463  1.671368  1.672166  1.672857  1.673441  1.673918   \n",
      "\n",
      "           7         8         9  \n",
      "0   0.219322  0.250447  0.281491  \n",
      "1   0.525680  0.555536  0.585213  \n",
      "2   0.815048  0.842698  0.870082  \n",
      "3   1.078593  1.103229  1.127526  \n",
      "4   1.308980  1.329967  1.350563  \n",
      "5   1.500771  1.517682  1.534170  \n",
      "6   1.650694  1.663326  1.675527  \n",
      "7   1.757764  1.766144  1.774109  \n",
      "8   1.823249  1.827623  1.831617  \n",
      "9   1.850495  1.851300  1.851779  \n",
      "10  1.844611  1.842440  1.840008  \n",
      "11  1.812050  1.807603  1.802970  \n",
      "12  1.760123  1.754159  1.748086  \n",
      "13  1.696471  1.689752  1.682998  \n",
      "14  1.628545  1.621787  1.615061  \n",
      "15  1.563125  1.556951  1.550866  \n",
      "16  1.505912  1.500822  1.495862  \n",
      "17  1.461230  1.457571  1.454069  \n",
      "18  1.431836  1.429795  1.427920  \n",
      "19  1.418865  1.418468  1.418230  \n",
      "20  1.421897  1.423022  1.424288  \n",
      "21  1.439140  1.441542  1.444054  \n",
      "22  1.467698  1.471041  1.474456  \n",
      "23  1.503922  1.507812  1.511734  \n",
      "24  1.543776  1.547804  1.551824  \n",
      "25  1.583226  1.587002  1.590733  \n",
      "26  1.618586  1.621773  1.624886  \n",
      "27  1.646823  1.649163  1.651408  \n",
      "28  1.665775  1.667107  1.668332  \n",
      "29  1.674288  1.674551  1.674709  \n"
     ]
    }
   ],
   "source": [
    "geraTabela()"
   ]
  },
  {
   "cell_type": "markdown",
   "metadata": {},
   "source": [
    "# Referências"
   ]
  },
  {
   "cell_type": "markdown",
   "metadata": {},
   "source": [
    "- <https://pt.sharelatex.com/learn/Integrals,_sums_and_limits#Integrals>\n",
    "- <https://github.com/adam-p/markdown-here/wiki/Markdown-Cheatsheet#links>\n",
    "- <https://www.symbolab.com/>\n",
    "- <http://www.wolframalpha.com/>\n",
    "- <http://jupyter-notebook.readthedocs.io/en/stable/examples/Notebook/Typesetting%20Equations.html>\n"
   ]
  },
  {
   "cell_type": "code",
   "execution_count": null,
   "metadata": {},
   "outputs": [],
   "source": []
  }
 ],
 "metadata": {
  "kernelspec": {
   "display_name": "Python 3",
   "language": "python",
   "name": "python3"
  },
  "language_info": {
   "codemirror_mode": {
    "name": "ipython",
    "version": 3
   },
   "file_extension": ".py",
   "mimetype": "text/x-python",
   "name": "python",
   "nbconvert_exporter": "python",
   "pygments_lexer": "ipython3",
   "version": "3.6.3"
  }
 },
 "nbformat": 4,
 "nbformat_minor": 2
}
